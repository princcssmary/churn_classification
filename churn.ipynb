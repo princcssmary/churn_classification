{
 "cells": [
  {
   "cell_type": "code",
   "execution_count": 1,
   "id": "f7c454cc",
   "metadata": {},
   "outputs": [],
   "source": [
    "import pandas as pd\n",
    "from sklearn.model_selection import train_test_split\n",
    "from sklearn.linear_model import LogisticRegression\n",
    "from sklearn.tree import DecisionTreeClassifier\n",
    "from sklearn import metrics\n",
    "from sklearn.ensemble import RandomForestClassifier\n",
    "from sklearn.dummy import DummyClassifier\n",
    "import numpy as np\n",
    "from sklearn.preprocessing import StandardScaler\n",
    "from sklearn.metrics import f1_score\n",
    "from sklearn.metrics import recall_score\n",
    "import matplotlib.pyplot as plt\n",
    "from sklearn.svm import SVC\n",
    "from sklearn.metrics import precision_score\n",
    "from sklearn.metrics import roc_curve, auc\n",
    "from sklearn.metrics import roc_auc_score"
   ]
  },
  {
   "cell_type": "code",
   "execution_count": 13,
   "id": "db9a991a",
   "metadata": {},
   "outputs": [],
   "source": [
    "from sklearn.metrics import confusion_matrix\n",
    "import itertools\n",
    "from sklearn.metrics import classification_report\n",
    "import seaborn as sns\n",
    "import imblearn\n",
    "from imblearn.over_sampling import RandomOverSampler\n",
    "from imblearn.under_sampling import RandomUnderSampler\n",
    "from collections import Counter\n",
    "from sklearn.datasets import make_classification\n",
    "from imblearn.over_sampling import SMOTE\n",
    "from imblearn.pipeline import Pipeline"
   ]
  },
  {
   "cell_type": "code",
   "execution_count": 3,
   "id": "85514fde",
   "metadata": {},
   "outputs": [],
   "source": [
    "df = pd.read_csv('churn.csv', sep=',')"
   ]
  },
  {
   "cell_type": "code",
   "execution_count": 4,
   "id": "0d6cf3fe",
   "metadata": {},
   "outputs": [],
   "source": [
    "new_df = df.drop(['RowNumber', 'Surname', 'CustomerId', 'Exited'], axis=1)"
   ]
  },
  {
   "cell_type": "code",
   "execution_count": 6,
   "id": "8886ea2b",
   "metadata": {},
   "outputs": [],
   "source": [
    "avr = new_df['Tenure'].mean()\n",
    "new_df['Tenure'] = new_df['Tenure'].fillna(np.int64(avr))"
   ]
  },
  {
   "cell_type": "code",
   "execution_count": 7,
   "id": "e2e3f787",
   "metadata": {},
   "outputs": [
    {
     "data": {
      "text/plain": [
       "0    7963\n",
       "1    2037\n",
       "Name: Exited, dtype: int64"
      ]
     },
     "execution_count": 7,
     "metadata": {},
     "output_type": "execute_result"
    }
   ],
   "source": [
    "df['Exited'].value_counts()"
   ]
  },
  {
   "cell_type": "code",
   "execution_count": 8,
   "id": "e48969ad",
   "metadata": {
    "scrolled": true
   },
   "outputs": [],
   "source": [
    "features = pd.get_dummies(new_df)\n",
    "target = df['Exited']"
   ]
  },
  {
   "cell_type": "code",
   "execution_count": 9,
   "id": "1f5ec569",
   "metadata": {},
   "outputs": [],
   "source": [
    "features_train, features_valid, target_train, target_valid = train_test_split(features, target, test_size=0.25, \n",
    "                                                                              random_state=12345)"
   ]
  },
  {
   "cell_type": "code",
   "execution_count": null,
   "id": "5a094b54",
   "metadata": {},
   "outputs": [],
   "source": [
    "features_train, features_test, target_train, target_test = train_test_split(features, target, test_size=0.25, \n",
    "                                                                              random_state=12345)"
   ]
  },
  {
   "cell_type": "code",
   "execution_count": 10,
   "id": "aa249716",
   "metadata": {},
   "outputs": [],
   "source": [
    "pd.options.mode.chained_assignment = None\n",
    "scaler=StandardScaler()\n",
    "numeric=['CreditScore', 'Age', 'Tenure', 'Balance', 'NumOfProducts', 'EstimatedSalary']\n",
    "scaler.fit(features_train[numeric])\n",
    "features_train[numeric]=scaler.transform(features_train[numeric])\n",
    "features_valid[numeric]=scaler.transform(features_valid[numeric])"
   ]
  },
  {
   "cell_type": "code",
   "execution_count": 10,
   "id": "7c9bba2b",
   "metadata": {},
   "outputs": [
    {
     "data": {
      "text/html": [
       "<div>\n",
       "<style scoped>\n",
       "    .dataframe tbody tr th:only-of-type {\n",
       "        vertical-align: middle;\n",
       "    }\n",
       "\n",
       "    .dataframe tbody tr th {\n",
       "        vertical-align: top;\n",
       "    }\n",
       "\n",
       "    .dataframe thead th {\n",
       "        text-align: right;\n",
       "    }\n",
       "</style>\n",
       "<table border=\"1\" class=\"dataframe\">\n",
       "  <thead>\n",
       "    <tr style=\"text-align: right;\">\n",
       "      <th></th>\n",
       "      <th>CreditScore</th>\n",
       "      <th>Age</th>\n",
       "      <th>Tenure</th>\n",
       "      <th>Balance</th>\n",
       "      <th>NumOfProducts</th>\n",
       "      <th>HasCrCard</th>\n",
       "      <th>IsActiveMember</th>\n",
       "      <th>EstimatedSalary</th>\n",
       "      <th>Geography_France</th>\n",
       "      <th>Geography_Germany</th>\n",
       "      <th>Geography_Spain</th>\n",
       "      <th>Gender_Female</th>\n",
       "      <th>Gender_Male</th>\n",
       "    </tr>\n",
       "  </thead>\n",
       "  <tbody>\n",
       "    <tr>\n",
       "      <th>226</th>\n",
       "      <td>0.442805</td>\n",
       "      <td>-0.841274</td>\n",
       "      <td>1.471429</td>\n",
       "      <td>-1.224577</td>\n",
       "      <td>0.817772</td>\n",
       "      <td>1</td>\n",
       "      <td>1</td>\n",
       "      <td>-1.269750</td>\n",
       "      <td>1</td>\n",
       "      <td>0</td>\n",
       "      <td>0</td>\n",
       "      <td>1</td>\n",
       "      <td>0</td>\n",
       "    </tr>\n",
       "    <tr>\n",
       "      <th>7756</th>\n",
       "      <td>-0.310897</td>\n",
       "      <td>-0.270730</td>\n",
       "      <td>0.748652</td>\n",
       "      <td>0.641783</td>\n",
       "      <td>-0.896874</td>\n",
       "      <td>1</td>\n",
       "      <td>1</td>\n",
       "      <td>0.960396</td>\n",
       "      <td>0</td>\n",
       "      <td>0</td>\n",
       "      <td>1</td>\n",
       "      <td>1</td>\n",
       "      <td>0</td>\n",
       "    </tr>\n",
       "    <tr>\n",
       "      <th>2065</th>\n",
       "      <td>-0.259274</td>\n",
       "      <td>-0.556002</td>\n",
       "      <td>1.110041</td>\n",
       "      <td>-1.224577</td>\n",
       "      <td>0.817772</td>\n",
       "      <td>1</td>\n",
       "      <td>0</td>\n",
       "      <td>0.661864</td>\n",
       "      <td>1</td>\n",
       "      <td>0</td>\n",
       "      <td>0</td>\n",
       "      <td>0</td>\n",
       "      <td>1</td>\n",
       "    </tr>\n",
       "    <tr>\n",
       "      <th>2800</th>\n",
       "      <td>1.217157</td>\n",
       "      <td>1.155631</td>\n",
       "      <td>1.471429</td>\n",
       "      <td>1.290462</td>\n",
       "      <td>0.817772</td>\n",
       "      <td>1</td>\n",
       "      <td>0</td>\n",
       "      <td>-1.039476</td>\n",
       "      <td>1</td>\n",
       "      <td>0</td>\n",
       "      <td>0</td>\n",
       "      <td>0</td>\n",
       "      <td>1</td>\n",
       "    </tr>\n",
       "    <tr>\n",
       "      <th>7028</th>\n",
       "      <td>0.690598</td>\n",
       "      <td>-1.221637</td>\n",
       "      <td>-0.335513</td>\n",
       "      <td>1.142121</td>\n",
       "      <td>-0.896874</td>\n",
       "      <td>0</td>\n",
       "      <td>0</td>\n",
       "      <td>-0.851729</td>\n",
       "      <td>0</td>\n",
       "      <td>1</td>\n",
       "      <td>0</td>\n",
       "      <td>0</td>\n",
       "      <td>1</td>\n",
       "    </tr>\n",
       "  </tbody>\n",
       "</table>\n",
       "</div>"
      ],
      "text/plain": [
       "      CreditScore       Age    Tenure   Balance  NumOfProducts  HasCrCard  \\\n",
       "226      0.442805 -0.841274  1.471429 -1.224577       0.817772          1   \n",
       "7756    -0.310897 -0.270730  0.748652  0.641783      -0.896874          1   \n",
       "2065    -0.259274 -0.556002  1.110041 -1.224577       0.817772          1   \n",
       "2800     1.217157  1.155631  1.471429  1.290462       0.817772          1   \n",
       "7028     0.690598 -1.221637 -0.335513  1.142121      -0.896874          0   \n",
       "\n",
       "      IsActiveMember  EstimatedSalary  Geography_France  Geography_Germany  \\\n",
       "226                1        -1.269750                 1                  0   \n",
       "7756               1         0.960396                 0                  0   \n",
       "2065               0         0.661864                 1                  0   \n",
       "2800               0        -1.039476                 1                  0   \n",
       "7028               0        -0.851729                 0                  1   \n",
       "\n",
       "      Geography_Spain  Gender_Female  Gender_Male  \n",
       "226                 0              1            0  \n",
       "7756                1              1            0  \n",
       "2065                0              0            1  \n",
       "2800                0              0            1  \n",
       "7028                0              0            1  "
      ]
     },
     "execution_count": 10,
     "metadata": {},
     "output_type": "execute_result"
    }
   ],
   "source": [
    "features_train.head()"
   ]
  },
  {
   "cell_type": "code",
   "execution_count": 16,
   "id": "19ae1488",
   "metadata": {},
   "outputs": [],
   "source": [
    "clf = DecisionTreeClassifier(max_depth=6, random_state=12345, class_weight='balanced')\n",
    "clf = clf.fit(features_train,target_train)\n",
    "target_pred = clf.predict(features_valid)"
   ]
  },
  {
   "cell_type": "code",
   "execution_count": 20,
   "id": "f134b51b",
   "metadata": {},
   "outputs": [
    {
     "name": "stdout",
     "output_type": "stream",
     "text": [
      "Accuracy: 0.7696\n"
     ]
    }
   ],
   "source": [
    "print(\"Accuracy:\",metrics.accuracy_score(target_valid, target_pred))"
   ]
  },
  {
   "cell_type": "code",
   "execution_count": 25,
   "id": "bc94df9b",
   "metadata": {},
   "outputs": [],
   "source": [
    "clf1=RandomForestClassifier(n_estimators=100, random_state=12345, max_depth=9)\n",
    "clf1.fit(features_train,target_train)\n",
    "y_pred=clf1.predict(features_valid)"
   ]
  },
  {
   "cell_type": "code",
   "execution_count": 73,
   "id": "bfcde864",
   "metadata": {},
   "outputs": [
    {
     "name": "stdout",
     "output_type": "stream",
     "text": [
      "Accuracy: 0.8516\n"
     ]
    }
   ],
   "source": [
    "print(\"Accuracy:\",metrics.accuracy_score(target_valid, y_pred))"
   ]
  },
  {
   "cell_type": "code",
   "execution_count": 14,
   "id": "66bd1fc3",
   "metadata": {},
   "outputs": [],
   "source": [
    "logisticRegr = LogisticRegression(random_state=12345)\n",
    "clf2 = logisticRegr.fit(features_train,target_train)\n",
    "w_pred=clf2.predict(features_valid)"
   ]
  },
  {
   "cell_type": "code",
   "execution_count": 49,
   "id": "6f018d19",
   "metadata": {},
   "outputs": [
    {
     "data": {
      "text/plain": [
       "0.786"
      ]
     },
     "execution_count": 49,
     "metadata": {},
     "output_type": "execute_result"
    }
   ],
   "source": [
    "prediction = pd.Series([0 for i in target_valid])\n",
    "metrics.accuracy_score(target_valid, prediction)"
   ]
  },
  {
   "cell_type": "code",
   "execution_count": 23,
   "id": "7bc67af7",
   "metadata": {},
   "outputs": [
    {
     "data": {
      "text/plain": [
       "LogisticRegression(random_state=12345)"
      ]
     },
     "execution_count": 23,
     "metadata": {},
     "output_type": "execute_result"
    }
   ],
   "source": [
    "lr = LogisticRegression(random_state=12345)\n",
    "lr.fit(features_train, target_train)"
   ]
  },
  {
   "cell_type": "code",
   "execution_count": 21,
   "id": "6d12633f",
   "metadata": {
    "scrolled": true
   },
   "outputs": [
    {
     "name": "stdout",
     "output_type": "stream",
     "text": [
      "Confusion matrix, without normalization\n",
      "[[1887   78]\n",
      " [ 430  105]]\n"
     ]
    },
    {
     "data": {
      "image/png": "[encoded data removed]",
      "text/plain": [
       "<Figure size 720x576 with 2 Axes>"
      ]
     },
     "metadata": {
      "needs_background": "light"
     },
     "output_type": "display_data"
    }
   ],
   "source": [
    "def plot_confusion_matrix(cm, classes,\n",
    "                          normalize=False,\n",
    "                          title='Confusion matrix',\n",
    "                          cmap=plt.cm.Blues):\n",
    "    \n",
    "    plt.imshow(cm, interpolation='nearest', cmap=cmap)\n",
    "    plt.title(title)\n",
    "    plt.colorbar()\n",
    "    tick_marks = np.arange(len(classes))\n",
    "    plt.xticks(tick_marks, classes, rotation=45)\n",
    "    plt.yticks(tick_marks, classes)\n",
    "\n",
    "    if normalize:\n",
    "        cm = cm.astype('float') / cm.sum(axis=1)[:, np.newaxis]\n",
    "        print(\"Normalized confusion matrix\")\n",
    "    else:\n",
    "        print('Confusion matrix, without normalization')\n",
    "\n",
    "    print(cm)\n",
    "\n",
    "    thresh = cm.max() / 2.\n",
    "    for i, j in itertools.product(range(cm.shape[0]), range(cm.shape[1])):\n",
    "        plt.text(j, i, cm[i, j],\n",
    "                 horizontalalignment=\"center\",\n",
    "                 color=\"white\" if cm[i, j] > thresh else \"black\")\n",
    "\n",
    "    plt.tight_layout()\n",
    "    plt.ylabel('True label')\n",
    "    plt.xlabel('Predicted label')\n",
    "\n",
    "font = {'size' : 15}\n",
    "\n",
    "plt.rc('font', **font)\n",
    "\n",
    "cnf_matrix = confusion_matrix(target_valid, lr.predict(features_valid))\n",
    "plt.figure(figsize=(10, 8))\n",
    "plot_confusion_matrix(cnf_matrix, classes=['Non-churned', 'Churned'],\n",
    "                      title='Confusion matrix')\n",
    "plt.savefig(\"conf_matrix.png\")\n",
    "plt.show()"
   ]
  },
  {
   "cell_type": "code",
   "execution_count": 37,
   "id": "7e0806f6",
   "metadata": {},
   "outputs": [
    {
     "name": "stdout",
     "output_type": "stream",
     "text": [
      "63 8\n",
      "Accuracy:  0.8296\n",
      "F1:  0.6432160804020101\n",
      "Recall:  0.7177570093457943\n",
      "Precision:  0.582701062215478\n"
     ]
    }
   ],
   "source": [
    "f1 = 0\n",
    "estimators = 0\n",
    "maxdepth = 0\n",
    "\n",
    "for estim in range(60, 70):\n",
    "    for md in range(1, 10):\n",
    "        test_rfclf = RandomForestClassifier(n_estimators=estim, max_depth=md, random_state=12345, class_weight='balanced')\n",
    "        test_rfclf.fit(features_train, target_train)\n",
    "        test_pred = test_rfclf.predict(features_valid)\n",
    "        f1_metric = f1_score(target_valid, test_pred)\n",
    "        if f1_metric > f1:\n",
    "            f1 = f1_metric\n",
    "            estimators = estim\n",
    "            maxdepth = md\n",
    "            \n",
    "print(estimators, maxdepth)\n",
    "rand_for_clf = RandomForestClassifier(n_estimators=estimators, max_depth=maxdepth, random_state=12345, class_weight='balanced')\n",
    "rand_for_clf.fit(features_train, target_train)\n",
    "pred = rand_for_clf.predict(features_valid)\n",
    "\n",
    "print('Accuracy: ', metrics.accuracy_score(target_valid, pred))\n",
    "print('F1: ', f1_score(target_valid, pred))\n",
    "print('Recall: ', recall_score(target_valid, pred))\n",
    "print('Precision: ', precision_score(target_valid, pred))"
   ]
  },
  {
   "cell_type": "code",
   "execution_count": 36,
   "id": "7e7917b1",
   "metadata": {},
   "outputs": [
    {
     "name": "stdout",
     "output_type": "stream",
     "text": [
      "5\n",
      "Accuracy:  0.8024\n",
      "F1:  0.6016129032258064\n",
      "Recall:  0.697196261682243\n",
      "Precision:  0.5290780141843971\n"
     ]
    }
   ],
   "source": [
    "f1_dt = 0\n",
    "maxdepth_dt = 0\n",
    "\n",
    "for md in range(1, 25):\n",
    "    test_dtclf = DecisionTreeClassifier(max_depth=md, random_state=12345, class_weight='balanced')\n",
    "    test_dtclf.fit(features_train, target_train)\n",
    "    test_pred_dt = test_dtclf.predict(features_valid)\n",
    "    f1_metric_dt = f1_score(target_valid, test_pred_dt)\n",
    "    if f1_metric_dt > f1_dt:\n",
    "        f1_dt = f1_metric_dt\n",
    "        maxdepth_dt = md\n",
    "print(maxdepth_dt)            \n",
    "dec_tree_clf = DecisionTreeClassifier(max_depth=maxdepth_dt, random_state=12345, class_weight='balanced')\n",
    "dec_tree_clf.fit(features_train, target_train)\n",
    "pred_dt = dec_tree_clf.predict(features_valid)\n",
    "\n",
    "print('Accuracy: ', metrics.accuracy_score(target_valid, pred_dt))\n",
    "print('F1: ', f1_score(target_valid, pred_dt))\n",
    "print('Recall: ', recall_score(target_valid, pred_dt))\n",
    "print('Precision: ', precision_score(target_valid, pred_dt))"
   ]
  }
 ],
 "metadata": {
  "kernelspec": {
   "display_name": "Python 3 (ipykernel)",
   "language": "python",
   "name": "python3"
  },
  "language_info": {
   "codemirror_mode": {
    "name": "ipython",
    "version": 3
   },
   "file_extension": ".py",
   "mimetype": "text/x-python",
   "name": "python",
   "nbconvert_exporter": "python",
   "pygments_lexer": "ipython3",
   "version": "3.9.7"
  }
 },
 "nbformat": 4,
 "nbformat_minor": 5
}
